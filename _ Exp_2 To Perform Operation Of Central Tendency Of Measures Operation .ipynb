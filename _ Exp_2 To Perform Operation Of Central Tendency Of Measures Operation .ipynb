{
 "cells": [
  {
   "cell_type": "markdown",
   "id": "8e05940b-54d1-44aa-a88c-0467ab382260",
   "metadata": {},
   "source": [
    "Central Tendency Of Measures Operation"
   ]
  },
  {
   "cell_type": "code",
   "execution_count": 2,
   "id": "ea50e121-28a3-4b41-a2c9-98b2986d50f4",
   "metadata": {},
   "outputs": [],
   "source": [
    "#Aim to perform central tendency of measuresoperation"
   ]
  },
  {
   "cell_type": "code",
   "execution_count": 3,
   "id": "c172493f-cab6-46b1-8328-5fdaf2ebe541",
   "metadata": {},
   "outputs": [],
   "source": [
    "#Name : Prashansha Rajendra Sahastrabuddhe\n",
    "#Roll No : 54\n",
    "#Sec : A\n",
    "#Subject : ET-1\n",
    "#Data : 04/08/2025"
   ]
  },
  {
   "cell_type": "code",
   "execution_count": 4,
   "id": "1147574d-1f2f-4862-b1ca-f5f74598d5e0",
   "metadata": {},
   "outputs": [],
   "source": [
    "age=[20,21,25,26,24,29,28,27,23,24,21,20,22]"
   ]
  },
  {
   "cell_type": "code",
   "execution_count": 5,
   "id": "3683b293-9d50-49ac-89c2-f7230faab18c",
   "metadata": {},
   "outputs": [
    {
     "name": "stdout",
     "output_type": "stream",
     "text": [
      "[20, 21, 25, 26, 24, 29, 28, 27, 23, 24, 21, 20, 22]\n"
     ]
    }
   ],
   "source": [
    "print(age)"
   ]
  },
  {
   "cell_type": "code",
   "execution_count": 6,
   "id": "dba06bb3-e781-4875-abf1-b9457911b67e",
   "metadata": {},
   "outputs": [
    {
     "data": {
      "text/plain": [
       "[20, 21, 25, 26, 24, 29, 28, 27, 23, 24, 21, 20, 22]"
      ]
     },
     "execution_count": 6,
     "metadata": {},
     "output_type": "execute_result"
    }
   ],
   "source": [
    "age"
   ]
  },
  {
   "cell_type": "code",
   "execution_count": 7,
   "id": "c1226637-d348-47c2-a68f-fecdc4b38bf5",
   "metadata": {},
   "outputs": [],
   "source": [
    "import statistics as st"
   ]
  },
  {
   "cell_type": "code",
   "execution_count": 8,
   "id": "821e7bf0-2e8b-4fac-99a2-8b69e1660776",
   "metadata": {},
   "outputs": [],
   "source": [
    "a=st.mean(age)"
   ]
  },
  {
   "cell_type": "code",
   "execution_count": 9,
   "id": "a99e14a5-2706-4bfd-9c53-18f234582288",
   "metadata": {},
   "outputs": [
    {
     "data": {
      "text/plain": [
       "23.846153846153847"
      ]
     },
     "execution_count": 9,
     "metadata": {},
     "output_type": "execute_result"
    }
   ],
   "source": [
    "a"
   ]
  },
  {
   "cell_type": "code",
   "execution_count": 10,
   "id": "5b810df2-52c9-4bd0-ad47-75b69cc50170",
   "metadata": {},
   "outputs": [],
   "source": [
    "b=st.median(age)"
   ]
  },
  {
   "cell_type": "code",
   "execution_count": 11,
   "id": "5440cc79-8c5d-46b8-93a8-43f94898f55f",
   "metadata": {},
   "outputs": [
    {
     "data": {
      "text/plain": [
       "24"
      ]
     },
     "execution_count": 11,
     "metadata": {},
     "output_type": "execute_result"
    }
   ],
   "source": [
    "b"
   ]
  },
  {
   "cell_type": "code",
   "execution_count": 12,
   "id": "4a24895f-6694-4b91-8804-fb4458f9aee2",
   "metadata": {},
   "outputs": [],
   "source": [
    "c=st.mode(age)"
   ]
  },
  {
   "cell_type": "code",
   "execution_count": 13,
   "id": "205d6cee-331a-403d-b553-cdebb5a1aa59",
   "metadata": {},
   "outputs": [
    {
     "data": {
      "text/plain": [
       "20"
      ]
     },
     "execution_count": 13,
     "metadata": {},
     "output_type": "execute_result"
    }
   ],
   "source": [
    "c"
   ]
  },
  {
   "cell_type": "code",
   "execution_count": 14,
   "id": "8864186a-2e7a-4c3f-8fa6-954ac8d3d6e0",
   "metadata": {},
   "outputs": [],
   "source": [
    "#Preforming central tendency of measures using numpy"
   ]
  },
  {
   "cell_type": "code",
   "execution_count": 15,
   "id": "36def0bd-47ab-4ddd-9265-4848248d5123",
   "metadata": {},
   "outputs": [],
   "source": [
    "import numpy as np"
   ]
  },
  {
   "cell_type": "code",
   "execution_count": 16,
   "id": "746af7ab-fc4e-4549-8ef5-43c557ca6540",
   "metadata": {},
   "outputs": [],
   "source": [
    "x=np.array([1,2,3,4,5,6,7,8,9,10])"
   ]
  },
  {
   "cell_type": "code",
   "execution_count": 17,
   "id": "eab7a5e2-f4c6-4165-ac27-0ad88182103d",
   "metadata": {},
   "outputs": [
    {
     "name": "stdout",
     "output_type": "stream",
     "text": [
      "5.5\n"
     ]
    }
   ],
   "source": [
    "print(np.mean(x))"
   ]
  },
  {
   "cell_type": "code",
   "execution_count": 18,
   "id": "eca329c6-1c5e-4875-a9e5-91226ce57cb1",
   "metadata": {},
   "outputs": [
    {
     "name": "stdout",
     "output_type": "stream",
     "text": [
      "5.5\n"
     ]
    }
   ],
   "source": [
    "print(np.median(x))"
   ]
  },
  {
   "cell_type": "code",
   "execution_count": 19,
   "id": "68b76d4d-532b-445b-a7a4-b19a86f6e935",
   "metadata": {},
   "outputs": [],
   "source": [
    "#Perform the measures of despertion\n",
    "from scipy import stats"
   ]
  },
  {
   "cell_type": "code",
   "execution_count": 20,
   "id": "fbaa2341-ecd0-4843-9939-9997d4339057",
   "metadata": {},
   "outputs": [
    {
     "name": "stdout",
     "output_type": "stream",
     "text": [
      "ModeResult(mode=np.int64(1), count=np.int64(1))\n"
     ]
    }
   ],
   "source": [
    "print(stats.mode(x))"
   ]
  },
  {
   "cell_type": "code",
   "execution_count": 21,
   "id": "6b51e80e-8ac2-4634-8755-00e83ef04230",
   "metadata": {},
   "outputs": [
    {
     "name": "stdout",
     "output_type": "stream",
     "text": [
      "2.8722813232690143\n"
     ]
    }
   ],
   "source": [
    "print(np.std(x))"
   ]
  },
  {
   "cell_type": "code",
   "execution_count": 22,
   "id": "b8c8a8ce-13ea-4b5f-b680-24460d9becaf",
   "metadata": {},
   "outputs": [
    {
     "name": "stdout",
     "output_type": "stream",
     "text": [
      "8.25\n"
     ]
    }
   ],
   "source": [
    "print(np.var(x))"
   ]
  },
  {
   "cell_type": "code",
   "execution_count": null,
   "id": "795650c7-8220-4e14-8871-d216461668db",
   "metadata": {},
   "outputs": [],
   "source": []
  },
  {
   "cell_type": "code",
   "execution_count": null,
   "id": "c4a8e9c8-f9b6-4fa1-8fcf-75c3dfbdd729",
   "metadata": {},
   "outputs": [],
   "source": []
  }
 ],
 "metadata": {
  "kernelspec": {
   "display_name": "Python 3 (ipykernel)",
   "language": "python",
   "name": "python3"
  },
  "language_info": {
   "codemirror_mode": {
    "name": "ipython",
    "version": 3
   },
   "file_extension": ".py",
   "mimetype": "text/x-python",
   "name": "python",
   "nbconvert_exporter": "python",
   "pygments_lexer": "ipython3",
   "version": "3.13.5"
  }
 },
 "nbformat": 4,
 "nbformat_minor": 5
}
